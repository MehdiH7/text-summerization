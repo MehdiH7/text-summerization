{
  "cells": [
    {
      "cell_type": "code",
      "execution_count": 1,
      "id": "37ac6f8b",
      "metadata": {
        "id": "37ac6f8b"
      },
      "outputs": [],
      "source": [
        "import re # regular expression library\n",
        "import nltk # natural language toolkit library\n",
        "import string"
      ]
    },
    {
      "cell_type": "code",
      "execution_count": 2,
      "id": "b11bc44b",
      "metadata": {
        "id": "b11bc44b"
      },
      "outputs": [],
      "source": [
        "original_text = \"\"\"Artificial intelligence is human like intelligence.\n",
        "                   It is the study of intelligent artificial agents.\n",
        "                   Science and engineering to produce intelligent machines.\n",
        "                   Solve problems and have intelligence.\n",
        "                   Related to intelligent behavior.\n",
        "                   Developing of reasoning machines.\n",
        "                   Learn from mistakes and successes.\n",
        "                   Artificial Intelligence is related to reasoning in everyday situations sasdasdas.\"\"\""
      ]
    },
    {
      "cell_type": "code",
      "execution_count": 3,
      "id": "a880eafe",
      "metadata": {
        "id": "a880eafe",
        "outputId": "6466c51f-fa35-4bf6-b87d-f131c422515a",
        "colab": {
          "base_uri": "https://localhost:8080/",
          "height": 87
        }
      },
      "outputs": [
        {
          "output_type": "execute_result",
          "data": {
            "text/plain": [
              "'Artificial intelligence is human like intelligence.\\n                   It is the study of intelligent artificial agents.\\n                   Science and engineering to produce intelligent machines.\\n                   Solve problems and have intelligence.\\n                   Related to intelligent behavior.\\n                   Developing of reasoning machines.\\n                   Learn from mistakes and successes.\\n                   Artificial Intelligence is related to reasoning in everyday situations.'"
            ],
            "application/vnd.google.colaboratory.intrinsic+json": {
              "type": "string"
            }
          },
          "metadata": {},
          "execution_count": 3
        }
      ],
      "source": [
        "original_text"
      ]
    },
    {
      "cell_type": "code",
      "execution_count": 4,
      "id": "d986aaae",
      "metadata": {
        "id": "d986aaae"
      },
      "outputs": [],
      "source": [
        "original_text = re.sub(r'\\s+', ' ', original_text)"
      ]
    },
    {
      "cell_type": "code",
      "execution_count": 5,
      "id": "afc2e1c2",
      "metadata": {
        "id": "afc2e1c2",
        "outputId": "f2df2f36-ac60-47b2-8a4b-2476061a56cf",
        "colab": {
          "base_uri": "https://localhost:8080/",
          "height": 70
        }
      },
      "outputs": [
        {
          "output_type": "execute_result",
          "data": {
            "text/plain": [
              "'Artificial intelligence is human like intelligence. It is the study of intelligent artificial agents. Science and engineering to produce intelligent machines. Solve problems and have intelligence. Related to intelligent behavior. Developing of reasoning machines. Learn from mistakes and successes. Artificial Intelligence is related to reasoning in everyday situations.'"
            ],
            "application/vnd.google.colaboratory.intrinsic+json": {
              "type": "string"
            }
          },
          "metadata": {},
          "execution_count": 5
        }
      ],
      "source": [
        "original_text"
      ]
    },
    {
      "cell_type": "code",
      "execution_count": 6,
      "id": "59a3fdf7",
      "metadata": {
        "id": "59a3fdf7",
        "outputId": "1d5561c2-53a4-49fc-db8c-382f897e58c9",
        "colab": {
          "base_uri": "https://localhost:8080/"
        }
      },
      "outputs": [
        {
          "output_type": "stream",
          "name": "stderr",
          "text": [
            "[nltk_data] Downloading package punkt to /root/nltk_data...\n",
            "[nltk_data]   Unzipping tokenizers/punkt.zip.\n"
          ]
        },
        {
          "output_type": "execute_result",
          "data": {
            "text/plain": [
              "True"
            ]
          },
          "metadata": {},
          "execution_count": 6
        }
      ],
      "source": [
        "nltk.download('punkt')\n"
      ]
    },
    {
      "cell_type": "code",
      "execution_count": 7,
      "id": "cd4e2ebe",
      "metadata": {
        "id": "cd4e2ebe",
        "outputId": "5d56cd98-04d9-4d0c-88b7-358edd9bff3e",
        "colab": {
          "base_uri": "https://localhost:8080/"
        }
      },
      "outputs": [
        {
          "output_type": "stream",
          "name": "stderr",
          "text": [
            "[nltk_data] Downloading package stopwords to /root/nltk_data...\n",
            "[nltk_data]   Unzipping corpora/stopwords.zip.\n"
          ]
        },
        {
          "output_type": "execute_result",
          "data": {
            "text/plain": [
              "True"
            ]
          },
          "metadata": {},
          "execution_count": 7
        }
      ],
      "source": [
        "nltk.download('stopwords')"
      ]
    },
    {
      "cell_type": "code",
      "execution_count": 8,
      "id": "37706f6e",
      "metadata": {
        "id": "37706f6e"
      },
      "outputs": [],
      "source": [
        "stopwords = nltk.corpus.stopwords.words('english') #these are the words in english that have no value and we are going to remve them\n",
        "#print(stopwords)\n",
        "#len(stopwords)"
      ]
    },
    {
      "cell_type": "code",
      "execution_count": 9,
      "id": "ee94c12f",
      "metadata": {
        "id": "ee94c12f",
        "outputId": "e8de043f-6ed8-4a2d-db8c-8077e4887446",
        "colab": {
          "base_uri": "https://localhost:8080/",
          "height": 35
        }
      },
      "outputs": [
        {
          "output_type": "execute_result",
          "data": {
            "text/plain": [
              "'!\"#$%&\\'()*+,-./:;<=>?@[\\\\]^_`{|}~'"
            ],
            "application/vnd.google.colaboratory.intrinsic+json": {
              "type": "string"
            }
          },
          "metadata": {},
          "execution_count": 9
        }
      ],
      "source": [
        "string.punctuation"
      ]
    },
    {
      "cell_type": "code",
      "execution_count": 10,
      "id": "b0b5ad55",
      "metadata": {
        "id": "b0b5ad55"
      },
      "outputs": [],
      "source": [
        "def preprocess(text): # defining our function and it recieves Text as parameter and will do 3 things for us (lower case, tokenize and removal of the punctuation)\n",
        "    formatted_text = text.lower() # this function lower here makes the texts in Lowercase (firts function)\n",
        "    \n",
        "    tokens = [] # made new variable which includes each one of the words we have in the string\n",
        "    for token in nltk.word_tokenize(formatted_text):\n",
        "        tokens.append(token)\n",
        "        #print(tokens)\n",
        "    \n",
        "    tokens = [word for word in tokens if word not in stopwords and word not in string.punctuation] #check the tokens variable and remove the one that matches in stopwords and that matches in punctuations\n",
        "    \n",
        "    \n",
        "    formatted_text = ' '.join(element for element in tokens)\n",
        "    \n",
        "    return formatted_text"
      ]
    },
    {
      "cell_type": "code",
      "execution_count": 11,
      "id": "396027f7",
      "metadata": {
        "id": "396027f7",
        "outputId": "58094db2-22e6-4dbd-f1e0-d658b49a6981",
        "colab": {
          "base_uri": "https://localhost:8080/",
          "height": 53
        }
      },
      "outputs": [
        {
          "output_type": "execute_result",
          "data": {
            "text/plain": [
              "'artificial intelligence human like intelligence study intelligent artificial agents science engineering produce intelligent machines solve problems intelligence related intelligent behavior developing reasoning machines learn mistakes successes artificial intelligence related reasoning everyday situations'"
            ],
            "application/vnd.google.colaboratory.intrinsic+json": {
              "type": "string"
            }
          },
          "metadata": {},
          "execution_count": 11
        }
      ],
      "source": [
        "formatted_text = preprocess(original_text) #now make a variable to implement our function to the text we want\n",
        "formatted_text\n"
      ]
    },
    {
      "cell_type": "code",
      "execution_count": null,
      "id": "f41ae91b",
      "metadata": {
        "id": "f41ae91b"
      },
      "outputs": [],
      "source": []
    },
    {
      "cell_type": "code",
      "execution_count": null,
      "id": "eee7c8f8",
      "metadata": {
        "id": "eee7c8f8"
      },
      "outputs": [],
      "source": []
    }
  ],
  "metadata": {
    "kernelspec": {
      "display_name": "Python 3 (ipykernel)",
      "language": "python",
      "name": "python3"
    },
    "language_info": {
      "codemirror_mode": {
        "name": "ipython",
        "version": 3
      },
      "file_extension": ".py",
      "mimetype": "text/x-python",
      "name": "python",
      "nbconvert_exporter": "python",
      "pygments_lexer": "ipython3",
      "version": "3.9.7"
    },
    "colab": {
      "provenance": [],
      "toc_visible": true
    },
    "accelerator": "GPU",
    "gpuClass": "standard"
  },
  "nbformat": 4,
  "nbformat_minor": 5
}