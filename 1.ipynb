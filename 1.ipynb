{
 "cells": [
  {
   "cell_type": "code",
   "execution_count": 2,
   "id": "37ac6f8b",
   "metadata": {},
   "outputs": [
    {
     "ename": "SyntaxError",
     "evalue": "invalid syntax (Temp/ipykernel_5108/227190490.py, line 4)",
     "output_type": "error",
     "traceback": [
      "\u001b[1;36m  File \u001b[1;32m\"C:\\Users\\MEHDIH~1\\AppData\\Local\\Temp/ipykernel_5108/227190490.py\"\u001b[1;36m, line \u001b[1;32m4\u001b[0m\n\u001b[1;33m    jupyter nbconvert --to webpdf --allow-chromium-download Untitled.ipynb\u001b[0m\n\u001b[1;37m            ^\u001b[0m\n\u001b[1;31mSyntaxError\u001b[0m\u001b[1;31m:\u001b[0m invalid syntax\n"
     ]
    }
   ],
   "source": [
    "import re # regular expression library\n",
    "import nltk # natural language toolkit library\n",
    "import string"
   ]
  },
  {
   "cell_type": "code",
   "execution_count": 27,
   "id": "b11bc44b",
   "metadata": {},
   "outputs": [],
   "source": [
    "original_text = \"\"\"Artificial intelligence is human like intelligence.\n",
    "                   It is the study of intelligent artificial agents.\n",
    "                   Science and engineering to produce intelligent machines.\n",
    "                   Solve problems and have intelligence.\n",
    "                   Related to intelligent behavior.\n",
    "                   Developing of reasoning machines.\n",
    "                   Learn from mistakes and successes.\n",
    "                   Artificial Intelligence is related to reasoning in everyday situations.\"\"\""
   ]
  },
  {
   "cell_type": "code",
   "execution_count": 28,
   "id": "a880eafe",
   "metadata": {},
   "outputs": [
    {
     "data": {
      "text/plain": [
       "'Artificial intelligence is human like intelligence.\\n                   It is the study of intelligent artificial agents.\\n                   Science and engineering to produce intelligent machines.\\n                   Solve problems and have intelligence.\\n                   Related to intelligent behavior.\\n                   Developing of reasoning machines.\\n                   Learn from mistakes and successes.\\n                   Artificial Intelligence is related to reasoning in everyday situations.'"
      ]
     },
     "execution_count": 28,
     "metadata": {},
     "output_type": "execute_result"
    }
   ],
   "source": [
    "original_text"
   ]
  },
  {
   "cell_type": "code",
   "execution_count": 29,
   "id": "d986aaae",
   "metadata": {},
   "outputs": [],
   "source": [
    "original_text = re.sub(r'\\s+', ' ', original_text)"
   ]
  },
  {
   "cell_type": "code",
   "execution_count": 46,
   "id": "afc2e1c2",
   "metadata": {},
   "outputs": [
    {
     "data": {
      "text/plain": [
       "'Artificial intelligence is human like intelligence. It is the study of intelligent artificial agents. Science and engineering to produce intelligent machines. Solve problems and have intelligence. Related to intelligent behavior. Developing of reasoning machines. Learn from mistakes and successes. Artificial Intelligence is related to reasoning in everyday situations.'"
      ]
     },
     "execution_count": 46,
     "metadata": {},
     "output_type": "execute_result"
    }
   ],
   "source": [
    "original_text"
   ]
  },
  {
   "cell_type": "code",
   "execution_count": 47,
   "id": "59a3fdf7",
   "metadata": {},
   "outputs": [
    {
     "name": "stderr",
     "output_type": "stream",
     "text": [
      "[nltk_data] Downloading package punkt to C:\\Users\\Mehdi\n",
      "[nltk_data]     Houshmand\\AppData\\Roaming\\nltk_data...\n",
      "[nltk_data]   Unzipping tokenizers\\punkt.zip.\n"
     ]
    },
    {
     "data": {
      "text/plain": [
       "True"
      ]
     },
     "execution_count": 47,
     "metadata": {},
     "output_type": "execute_result"
    }
   ],
   "source": [
    "nltk.download('punkt')\n"
   ]
  },
  {
   "cell_type": "code",
   "execution_count": 56,
   "id": "cd4e2ebe",
   "metadata": {},
   "outputs": [
    {
     "name": "stderr",
     "output_type": "stream",
     "text": [
      "[nltk_data] Downloading package stopwords to C:\\Users\\Mehdi\n",
      "[nltk_data]     Houshmand\\AppData\\Roaming\\nltk_data...\n",
      "[nltk_data]   Unzipping corpora\\stopwords.zip.\n"
     ]
    },
    {
     "data": {
      "text/plain": [
       "True"
      ]
     },
     "execution_count": 56,
     "metadata": {},
     "output_type": "execute_result"
    }
   ],
   "source": [
    "nltk.download('stopwords')"
   ]
  },
  {
   "cell_type": "code",
   "execution_count": 76,
   "id": "37706f6e",
   "metadata": {},
   "outputs": [],
   "source": [
    "stopwords = nltk.corpus.stopwords.words('english') #these are the words in english that have no value and we are going to remve them\n",
    "#print(stopwords)\n",
    "#len(stopwords)"
   ]
  },
  {
   "cell_type": "code",
   "execution_count": 78,
   "id": "ee94c12f",
   "metadata": {},
   "outputs": [
    {
     "data": {
      "text/plain": [
       "'!\"#$%&\\'()*+,-./:;<=>?@[\\\\]^_`{|}~'"
      ]
     },
     "execution_count": 78,
     "metadata": {},
     "output_type": "execute_result"
    }
   ],
   "source": [
    "string.punctuation"
   ]
  },
  {
   "cell_type": "code",
   "execution_count": 83,
   "id": "b0b5ad55",
   "metadata": {},
   "outputs": [],
   "source": [
    "def preprocess(text): # defining our function and it recieves Text as parameter and will do 3 things for us (lower case, tokenize and removal of the punctuation)\n",
    "    formatted_text = text.lower() # this function lower here makes the texts in Lowercase (firts function)\n",
    "    \n",
    "    tokens = [] # made new variable which includes each one of the words we have in the string\n",
    "    for token in nltk.word_tokenize(formatted_text):\n",
    "        tokens.append(token)\n",
    "        #print(tokens)\n",
    "    \n",
    "    tokens = [word for word in tokens if word not in stopwords and word not in string.punctuation] #check the tokens variable and remove the one that matches in stopwords and that matches in punctuations\n",
    "    \n",
    "    \n",
    "    formatted_text = ' '.join(element for element in tokens)\n",
    "    \n",
    "    return formatted_text"
   ]
  },
  {
   "cell_type": "code",
   "execution_count": 84,
   "id": "396027f7",
   "metadata": {},
   "outputs": [
    {
     "data": {
      "text/plain": [
       "'artificial intelligence human like intelligence study intelligent artificial agents science engineering produce intelligent machines solve problems intelligence related intelligent behavior developing reasoning machines learn mistakes successes artificial intelligence related reasoning everyday situations'"
      ]
     },
     "execution_count": 84,
     "metadata": {},
     "output_type": "execute_result"
    }
   ],
   "source": [
    "formatted_text = preprocess(original_text) #now make a variable to implement our function to the text we want\n",
    "formatted_text\n"
   ]
  },
  {
   "cell_type": "code",
   "execution_count": null,
   "id": "f41ae91b",
   "metadata": {},
   "outputs": [],
   "source": []
  },
  {
   "cell_type": "code",
   "execution_count": null,
   "id": "eee7c8f8",
   "metadata": {},
   "outputs": [],
   "source": []
  }
 ],
 "metadata": {
  "kernelspec": {
   "display_name": "Python 3 (ipykernel)",
   "language": "python",
   "name": "python3"
  },
  "language_info": {
   "codemirror_mode": {
    "name": "ipython",
    "version": 3
   },
   "file_extension": ".py",
   "mimetype": "text/x-python",
   "name": "python",
   "nbconvert_exporter": "python",
   "pygments_lexer": "ipython3",
   "version": "3.9.7"
  }
 },
 "nbformat": 4,
 "nbformat_minor": 5
}
