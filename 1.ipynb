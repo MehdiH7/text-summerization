{
  "cells": [
    {
      "cell_type": "code",
      "execution_count": 4,
      "id": "37ac6f8b",
      "metadata": {
        "id": "37ac6f8b"
      },
      "outputs": [],
      "source": [
        "import re # regular expression library\n",
        "import nltk # natural language toolkit library\n",
        "import string"
      ]
    },
    {
      "cell_type": "code",
      "execution_count": 5,
      "id": "b11bc44b",
      "metadata": {
        "id": "b11bc44b"
      },
      "outputs": [],
      "source": [
        "original_text = \"\"\"Artificial intelligence is human like intelligence.\n",
        "                   It is the study of intelligent artificial agents.\n",
        "                   Science and engineering to produce intelligent machines.\n",
        "                   Solve problems and have intelligence.\n",
        "                   Related to intelligent behavior.\n",
        "                   Developing of reasoning machines.\n",
        "                   Learn from mistakes and successes.\n",
        "                   Artificial Intelligence is related to reasoning in everyday situations sasdasdas.\"\"\""
      ]
    },
    {
      "cell_type": "code",
      "execution_count": 6,
      "id": "a880eafe",
      "metadata": {
        "id": "a880eafe",
        "outputId": "46655a69-408a-4d00-9dfa-d9f3a344e346",
        "colab": {
          "base_uri": "https://localhost:8080/",
          "height": 72
        }
      },
      "outputs": [
        {
          "output_type": "execute_result",
          "data": {
            "text/plain": [
              "'Artificial intelligence is human like intelligence.\\n                   It is the study of intelligent artificial agents.\\n                   Science and engineering to produce intelligent machines.\\n                   Solve problems and have intelligence.\\n                   Related to intelligent behavior.\\n                   Developing of reasoning machines.\\n                   Learn from mistakes and successes.\\n                   Artificial Intelligence is related to reasoning in everyday situations sasdasdas.'"
            ],
            "application/vnd.google.colaboratory.intrinsic+json": {
              "type": "string"
            }
          },
          "metadata": {},
          "execution_count": 6
        }
      ],
      "source": [
        "original_text"
      ]
    },
    {
      "cell_type": "code",
      "execution_count": 7,
      "id": "d986aaae",
      "metadata": {
        "id": "d986aaae"
      },
      "outputs": [],
      "source": [
        "original_text = re.sub(r'\\s+', ' ', original_text)"
      ]
    },
    {
      "cell_type": "code",
      "execution_count": 8,
      "id": "afc2e1c2",
      "metadata": {
        "id": "afc2e1c2",
        "outputId": "7143bb48-1d11-41aa-e0e0-dc7140a7982a",
        "colab": {
          "base_uri": "https://localhost:8080/",
          "height": 72
        }
      },
      "outputs": [
        {
          "output_type": "execute_result",
          "data": {
            "text/plain": [
              "'Artificial intelligence is human like intelligence. It is the study of intelligent artificial agents. Science and engineering to produce intelligent machines. Solve problems and have intelligence. Related to intelligent behavior. Developing of reasoning machines. Learn from mistakes and successes. Artificial Intelligence is related to reasoning in everyday situations sasdasdas.'"
            ],
            "application/vnd.google.colaboratory.intrinsic+json": {
              "type": "string"
            }
          },
          "metadata": {},
          "execution_count": 8
        }
      ],
      "source": [
        "original_text"
      ]
    },
    {
      "cell_type": "code",
      "execution_count": 9,
      "id": "59a3fdf7",
      "metadata": {
        "id": "59a3fdf7",
        "outputId": "2b8b8275-2b2e-4ac4-a88f-ab44fd4e0844",
        "colab": {
          "base_uri": "https://localhost:8080/"
        }
      },
      "outputs": [
        {
          "output_type": "stream",
          "name": "stderr",
          "text": [
            "[nltk_data] Downloading package punkt to /root/nltk_data...\n",
            "[nltk_data]   Unzipping tokenizers/punkt.zip.\n"
          ]
        },
        {
          "output_type": "execute_result",
          "data": {
            "text/plain": [
              "True"
            ]
          },
          "metadata": {},
          "execution_count": 9
        }
      ],
      "source": [
        "nltk.download('punkt')\n"
      ]
    },
    {
      "cell_type": "code",
      "execution_count": 10,
      "id": "cd4e2ebe",
      "metadata": {
        "id": "cd4e2ebe",
        "outputId": "5680687a-ee83-4e38-b041-e36f761768ce",
        "colab": {
          "base_uri": "https://localhost:8080/"
        }
      },
      "outputs": [
        {
          "output_type": "stream",
          "name": "stderr",
          "text": [
            "[nltk_data] Downloading package stopwords to /root/nltk_data...\n",
            "[nltk_data]   Unzipping corpora/stopwords.zip.\n"
          ]
        },
        {
          "output_type": "execute_result",
          "data": {
            "text/plain": [
              "True"
            ]
          },
          "metadata": {},
          "execution_count": 10
        }
      ],
      "source": [
        "nltk.download('stopwords')"
      ]
    },
    {
      "cell_type": "code",
      "execution_count": 11,
      "id": "37706f6e",
      "metadata": {
        "id": "37706f6e",
        "colab": {
          "base_uri": "https://localhost:8080/"
        },
        "outputId": "c46ab0c0-044a-4346-b8a5-b440e178fe8a"
      },
      "outputs": [
        {
          "output_type": "stream",
          "name": "stdout",
          "text": [
            "['i', 'me', 'my', 'myself', 'we', 'our', 'ours', 'ourselves', 'you', \"you're\", \"you've\", \"you'll\", \"you'd\", 'your', 'yours', 'yourself', 'yourselves', 'he', 'him', 'his', 'himself', 'she', \"she's\", 'her', 'hers', 'herself', 'it', \"it's\", 'its', 'itself', 'they', 'them', 'their', 'theirs', 'themselves', 'what', 'which', 'who', 'whom', 'this', 'that', \"that'll\", 'these', 'those', 'am', 'is', 'are', 'was', 'were', 'be', 'been', 'being', 'have', 'has', 'had', 'having', 'do', 'does', 'did', 'doing', 'a', 'an', 'the', 'and', 'but', 'if', 'or', 'because', 'as', 'until', 'while', 'of', 'at', 'by', 'for', 'with', 'about', 'against', 'between', 'into', 'through', 'during', 'before', 'after', 'above', 'below', 'to', 'from', 'up', 'down', 'in', 'out', 'on', 'off', 'over', 'under', 'again', 'further', 'then', 'once', 'here', 'there', 'when', 'where', 'why', 'how', 'all', 'any', 'both', 'each', 'few', 'more', 'most', 'other', 'some', 'such', 'no', 'nor', 'not', 'only', 'own', 'same', 'so', 'than', 'too', 'very', 's', 't', 'can', 'will', 'just', 'don', \"don't\", 'should', \"should've\", 'now', 'd', 'll', 'm', 'o', 're', 've', 'y', 'ain', 'aren', \"aren't\", 'couldn', \"couldn't\", 'didn', \"didn't\", 'doesn', \"doesn't\", 'hadn', \"hadn't\", 'hasn', \"hasn't\", 'haven', \"haven't\", 'isn', \"isn't\", 'ma', 'mightn', \"mightn't\", 'mustn', \"mustn't\", 'needn', \"needn't\", 'shan', \"shan't\", 'shouldn', \"shouldn't\", 'wasn', \"wasn't\", 'weren', \"weren't\", 'won', \"won't\", 'wouldn', \"wouldn't\"]\n"
          ]
        },
        {
          "output_type": "execute_result",
          "data": {
            "text/plain": [
              "179"
            ]
          },
          "metadata": {},
          "execution_count": 11
        }
      ],
      "source": [
        "stopwords = nltk.corpus.stopwords.words('english') #these are the words in english that have no value and we are going to remve them\n",
        "print(stopwords)\n",
        "len(stopwords)"
      ]
    },
    {
      "cell_type": "code",
      "execution_count": 12,
      "id": "ee94c12f",
      "metadata": {
        "id": "ee94c12f",
        "outputId": "e31cc49b-28e8-4919-ef94-ff677523d34f",
        "colab": {
          "base_uri": "https://localhost:8080/",
          "height": 36
        }
      },
      "outputs": [
        {
          "output_type": "execute_result",
          "data": {
            "text/plain": [
              "'!\"#$%&\\'()*+,-./:;<=>?@[\\\\]^_`{|}~'"
            ],
            "application/vnd.google.colaboratory.intrinsic+json": {
              "type": "string"
            }
          },
          "metadata": {},
          "execution_count": 12
        }
      ],
      "source": [
        "string.punctuation"
      ]
    },
    {
      "cell_type": "code",
      "execution_count": 13,
      "id": "b0b5ad55",
      "metadata": {
        "id": "b0b5ad55"
      },
      "outputs": [],
      "source": [
        "def preprocess(text): # defining our function and it recieves Text as parameter and will do 3 things for us (lower case, tokenize and removal of the punctuation)\n",
        "    formatted_text = text.lower() # this function lower here makes the texts in Lowercase (firts function)\n",
        "    \n",
        "    tokens = [] # made new variable which includes each one of the words we have in the string\n",
        "    for token in nltk.word_tokenize(formatted_text):\n",
        "        tokens.append(token)\n",
        "        print(tokens)\n",
        "    \n",
        "    tokens = [word for word in tokens if word not in stopwords and word not in string.punctuation] #check the tokens variable and remove the one that matches in stopwords and that matches in punctuations\n",
        "    \n",
        "    \n",
        "    formatted_text = ' '.join(element for element in tokens)\n",
        "    \n",
        "    return formatted_text"
      ]
    },
    {
      "cell_type": "code",
      "execution_count": 14,
      "id": "396027f7",
      "metadata": {
        "id": "396027f7",
        "outputId": "c555c29f-986e-4919-8d10-c03721f43bae",
        "colab": {
          "base_uri": "https://localhost:8080/",
          "height": 1000
        }
      },
      "outputs": [
        {
          "output_type": "stream",
          "name": "stdout",
          "text": [
            "['artificial']\n",
            "['artificial', 'intelligence']\n",
            "['artificial', 'intelligence', 'is']\n",
            "['artificial', 'intelligence', 'is', 'human']\n",
            "['artificial', 'intelligence', 'is', 'human', 'like']\n",
            "['artificial', 'intelligence', 'is', 'human', 'like', 'intelligence']\n",
            "['artificial', 'intelligence', 'is', 'human', 'like', 'intelligence', '.']\n",
            "['artificial', 'intelligence', 'is', 'human', 'like', 'intelligence', '.', 'it']\n",
            "['artificial', 'intelligence', 'is', 'human', 'like', 'intelligence', '.', 'it', 'is']\n",
            "['artificial', 'intelligence', 'is', 'human', 'like', 'intelligence', '.', 'it', 'is', 'the']\n",
            "['artificial', 'intelligence', 'is', 'human', 'like', 'intelligence', '.', 'it', 'is', 'the', 'study']\n",
            "['artificial', 'intelligence', 'is', 'human', 'like', 'intelligence', '.', 'it', 'is', 'the', 'study', 'of']\n",
            "['artificial', 'intelligence', 'is', 'human', 'like', 'intelligence', '.', 'it', 'is', 'the', 'study', 'of', 'intelligent']\n",
            "['artificial', 'intelligence', 'is', 'human', 'like', 'intelligence', '.', 'it', 'is', 'the', 'study', 'of', 'intelligent', 'artificial']\n",
            "['artificial', 'intelligence', 'is', 'human', 'like', 'intelligence', '.', 'it', 'is', 'the', 'study', 'of', 'intelligent', 'artificial', 'agents']\n",
            "['artificial', 'intelligence', 'is', 'human', 'like', 'intelligence', '.', 'it', 'is', 'the', 'study', 'of', 'intelligent', 'artificial', 'agents', '.']\n",
            "['artificial', 'intelligence', 'is', 'human', 'like', 'intelligence', '.', 'it', 'is', 'the', 'study', 'of', 'intelligent', 'artificial', 'agents', '.', 'science']\n",
            "['artificial', 'intelligence', 'is', 'human', 'like', 'intelligence', '.', 'it', 'is', 'the', 'study', 'of', 'intelligent', 'artificial', 'agents', '.', 'science', 'and']\n",
            "['artificial', 'intelligence', 'is', 'human', 'like', 'intelligence', '.', 'it', 'is', 'the', 'study', 'of', 'intelligent', 'artificial', 'agents', '.', 'science', 'and', 'engineering']\n",
            "['artificial', 'intelligence', 'is', 'human', 'like', 'intelligence', '.', 'it', 'is', 'the', 'study', 'of', 'intelligent', 'artificial', 'agents', '.', 'science', 'and', 'engineering', 'to']\n",
            "['artificial', 'intelligence', 'is', 'human', 'like', 'intelligence', '.', 'it', 'is', 'the', 'study', 'of', 'intelligent', 'artificial', 'agents', '.', 'science', 'and', 'engineering', 'to', 'produce']\n",
            "['artificial', 'intelligence', 'is', 'human', 'like', 'intelligence', '.', 'it', 'is', 'the', 'study', 'of', 'intelligent', 'artificial', 'agents', '.', 'science', 'and', 'engineering', 'to', 'produce', 'intelligent']\n",
            "['artificial', 'intelligence', 'is', 'human', 'like', 'intelligence', '.', 'it', 'is', 'the', 'study', 'of', 'intelligent', 'artificial', 'agents', '.', 'science', 'and', 'engineering', 'to', 'produce', 'intelligent', 'machines']\n",
            "['artificial', 'intelligence', 'is', 'human', 'like', 'intelligence', '.', 'it', 'is', 'the', 'study', 'of', 'intelligent', 'artificial', 'agents', '.', 'science', 'and', 'engineering', 'to', 'produce', 'intelligent', 'machines', '.']\n",
            "['artificial', 'intelligence', 'is', 'human', 'like', 'intelligence', '.', 'it', 'is', 'the', 'study', 'of', 'intelligent', 'artificial', 'agents', '.', 'science', 'and', 'engineering', 'to', 'produce', 'intelligent', 'machines', '.', 'solve']\n",
            "['artificial', 'intelligence', 'is', 'human', 'like', 'intelligence', '.', 'it', 'is', 'the', 'study', 'of', 'intelligent', 'artificial', 'agents', '.', 'science', 'and', 'engineering', 'to', 'produce', 'intelligent', 'machines', '.', 'solve', 'problems']\n",
            "['artificial', 'intelligence', 'is', 'human', 'like', 'intelligence', '.', 'it', 'is', 'the', 'study', 'of', 'intelligent', 'artificial', 'agents', '.', 'science', 'and', 'engineering', 'to', 'produce', 'intelligent', 'machines', '.', 'solve', 'problems', 'and']\n",
            "['artificial', 'intelligence', 'is', 'human', 'like', 'intelligence', '.', 'it', 'is', 'the', 'study', 'of', 'intelligent', 'artificial', 'agents', '.', 'science', 'and', 'engineering', 'to', 'produce', 'intelligent', 'machines', '.', 'solve', 'problems', 'and', 'have']\n",
            "['artificial', 'intelligence', 'is', 'human', 'like', 'intelligence', '.', 'it', 'is', 'the', 'study', 'of', 'intelligent', 'artificial', 'agents', '.', 'science', 'and', 'engineering', 'to', 'produce', 'intelligent', 'machines', '.', 'solve', 'problems', 'and', 'have', 'intelligence']\n",
            "['artificial', 'intelligence', 'is', 'human', 'like', 'intelligence', '.', 'it', 'is', 'the', 'study', 'of', 'intelligent', 'artificial', 'agents', '.', 'science', 'and', 'engineering', 'to', 'produce', 'intelligent', 'machines', '.', 'solve', 'problems', 'and', 'have', 'intelligence', '.']\n",
            "['artificial', 'intelligence', 'is', 'human', 'like', 'intelligence', '.', 'it', 'is', 'the', 'study', 'of', 'intelligent', 'artificial', 'agents', '.', 'science', 'and', 'engineering', 'to', 'produce', 'intelligent', 'machines', '.', 'solve', 'problems', 'and', 'have', 'intelligence', '.', 'related']\n",
            "['artificial', 'intelligence', 'is', 'human', 'like', 'intelligence', '.', 'it', 'is', 'the', 'study', 'of', 'intelligent', 'artificial', 'agents', '.', 'science', 'and', 'engineering', 'to', 'produce', 'intelligent', 'machines', '.', 'solve', 'problems', 'and', 'have', 'intelligence', '.', 'related', 'to']\n",
            "['artificial', 'intelligence', 'is', 'human', 'like', 'intelligence', '.', 'it', 'is', 'the', 'study', 'of', 'intelligent', 'artificial', 'agents', '.', 'science', 'and', 'engineering', 'to', 'produce', 'intelligent', 'machines', '.', 'solve', 'problems', 'and', 'have', 'intelligence', '.', 'related', 'to', 'intelligent']\n",
            "['artificial', 'intelligence', 'is', 'human', 'like', 'intelligence', '.', 'it', 'is', 'the', 'study', 'of', 'intelligent', 'artificial', 'agents', '.', 'science', 'and', 'engineering', 'to', 'produce', 'intelligent', 'machines', '.', 'solve', 'problems', 'and', 'have', 'intelligence', '.', 'related', 'to', 'intelligent', 'behavior']\n",
            "['artificial', 'intelligence', 'is', 'human', 'like', 'intelligence', '.', 'it', 'is', 'the', 'study', 'of', 'intelligent', 'artificial', 'agents', '.', 'science', 'and', 'engineering', 'to', 'produce', 'intelligent', 'machines', '.', 'solve', 'problems', 'and', 'have', 'intelligence', '.', 'related', 'to', 'intelligent', 'behavior', '.']\n",
            "['artificial', 'intelligence', 'is', 'human', 'like', 'intelligence', '.', 'it', 'is', 'the', 'study', 'of', 'intelligent', 'artificial', 'agents', '.', 'science', 'and', 'engineering', 'to', 'produce', 'intelligent', 'machines', '.', 'solve', 'problems', 'and', 'have', 'intelligence', '.', 'related', 'to', 'intelligent', 'behavior', '.', 'developing']\n",
            "['artificial', 'intelligence', 'is', 'human', 'like', 'intelligence', '.', 'it', 'is', 'the', 'study', 'of', 'intelligent', 'artificial', 'agents', '.', 'science', 'and', 'engineering', 'to', 'produce', 'intelligent', 'machines', '.', 'solve', 'problems', 'and', 'have', 'intelligence', '.', 'related', 'to', 'intelligent', 'behavior', '.', 'developing', 'of']\n",
            "['artificial', 'intelligence', 'is', 'human', 'like', 'intelligence', '.', 'it', 'is', 'the', 'study', 'of', 'intelligent', 'artificial', 'agents', '.', 'science', 'and', 'engineering', 'to', 'produce', 'intelligent', 'machines', '.', 'solve', 'problems', 'and', 'have', 'intelligence', '.', 'related', 'to', 'intelligent', 'behavior', '.', 'developing', 'of', 'reasoning']\n",
            "['artificial', 'intelligence', 'is', 'human', 'like', 'intelligence', '.', 'it', 'is', 'the', 'study', 'of', 'intelligent', 'artificial', 'agents', '.', 'science', 'and', 'engineering', 'to', 'produce', 'intelligent', 'machines', '.', 'solve', 'problems', 'and', 'have', 'intelligence', '.', 'related', 'to', 'intelligent', 'behavior', '.', 'developing', 'of', 'reasoning', 'machines']\n",
            "['artificial', 'intelligence', 'is', 'human', 'like', 'intelligence', '.', 'it', 'is', 'the', 'study', 'of', 'intelligent', 'artificial', 'agents', '.', 'science', 'and', 'engineering', 'to', 'produce', 'intelligent', 'machines', '.', 'solve', 'problems', 'and', 'have', 'intelligence', '.', 'related', 'to', 'intelligent', 'behavior', '.', 'developing', 'of', 'reasoning', 'machines', '.']\n",
            "['artificial', 'intelligence', 'is', 'human', 'like', 'intelligence', '.', 'it', 'is', 'the', 'study', 'of', 'intelligent', 'artificial', 'agents', '.', 'science', 'and', 'engineering', 'to', 'produce', 'intelligent', 'machines', '.', 'solve', 'problems', 'and', 'have', 'intelligence', '.', 'related', 'to', 'intelligent', 'behavior', '.', 'developing', 'of', 'reasoning', 'machines', '.', 'learn']\n",
            "['artificial', 'intelligence', 'is', 'human', 'like', 'intelligence', '.', 'it', 'is', 'the', 'study', 'of', 'intelligent', 'artificial', 'agents', '.', 'science', 'and', 'engineering', 'to', 'produce', 'intelligent', 'machines', '.', 'solve', 'problems', 'and', 'have', 'intelligence', '.', 'related', 'to', 'intelligent', 'behavior', '.', 'developing', 'of', 'reasoning', 'machines', '.', 'learn', 'from']\n",
            "['artificial', 'intelligence', 'is', 'human', 'like', 'intelligence', '.', 'it', 'is', 'the', 'study', 'of', 'intelligent', 'artificial', 'agents', '.', 'science', 'and', 'engineering', 'to', 'produce', 'intelligent', 'machines', '.', 'solve', 'problems', 'and', 'have', 'intelligence', '.', 'related', 'to', 'intelligent', 'behavior', '.', 'developing', 'of', 'reasoning', 'machines', '.', 'learn', 'from', 'mistakes']\n",
            "['artificial', 'intelligence', 'is', 'human', 'like', 'intelligence', '.', 'it', 'is', 'the', 'study', 'of', 'intelligent', 'artificial', 'agents', '.', 'science', 'and', 'engineering', 'to', 'produce', 'intelligent', 'machines', '.', 'solve', 'problems', 'and', 'have', 'intelligence', '.', 'related', 'to', 'intelligent', 'behavior', '.', 'developing', 'of', 'reasoning', 'machines', '.', 'learn', 'from', 'mistakes', 'and']\n",
            "['artificial', 'intelligence', 'is', 'human', 'like', 'intelligence', '.', 'it', 'is', 'the', 'study', 'of', 'intelligent', 'artificial', 'agents', '.', 'science', 'and', 'engineering', 'to', 'produce', 'intelligent', 'machines', '.', 'solve', 'problems', 'and', 'have', 'intelligence', '.', 'related', 'to', 'intelligent', 'behavior', '.', 'developing', 'of', 'reasoning', 'machines', '.', 'learn', 'from', 'mistakes', 'and', 'successes']\n",
            "['artificial', 'intelligence', 'is', 'human', 'like', 'intelligence', '.', 'it', 'is', 'the', 'study', 'of', 'intelligent', 'artificial', 'agents', '.', 'science', 'and', 'engineering', 'to', 'produce', 'intelligent', 'machines', '.', 'solve', 'problems', 'and', 'have', 'intelligence', '.', 'related', 'to', 'intelligent', 'behavior', '.', 'developing', 'of', 'reasoning', 'machines', '.', 'learn', 'from', 'mistakes', 'and', 'successes', '.']\n",
            "['artificial', 'intelligence', 'is', 'human', 'like', 'intelligence', '.', 'it', 'is', 'the', 'study', 'of', 'intelligent', 'artificial', 'agents', '.', 'science', 'and', 'engineering', 'to', 'produce', 'intelligent', 'machines', '.', 'solve', 'problems', 'and', 'have', 'intelligence', '.', 'related', 'to', 'intelligent', 'behavior', '.', 'developing', 'of', 'reasoning', 'machines', '.', 'learn', 'from', 'mistakes', 'and', 'successes', '.', 'artificial']\n",
            "['artificial', 'intelligence', 'is', 'human', 'like', 'intelligence', '.', 'it', 'is', 'the', 'study', 'of', 'intelligent', 'artificial', 'agents', '.', 'science', 'and', 'engineering', 'to', 'produce', 'intelligent', 'machines', '.', 'solve', 'problems', 'and', 'have', 'intelligence', '.', 'related', 'to', 'intelligent', 'behavior', '.', 'developing', 'of', 'reasoning', 'machines', '.', 'learn', 'from', 'mistakes', 'and', 'successes', '.', 'artificial', 'intelligence']\n",
            "['artificial', 'intelligence', 'is', 'human', 'like', 'intelligence', '.', 'it', 'is', 'the', 'study', 'of', 'intelligent', 'artificial', 'agents', '.', 'science', 'and', 'engineering', 'to', 'produce', 'intelligent', 'machines', '.', 'solve', 'problems', 'and', 'have', 'intelligence', '.', 'related', 'to', 'intelligent', 'behavior', '.', 'developing', 'of', 'reasoning', 'machines', '.', 'learn', 'from', 'mistakes', 'and', 'successes', '.', 'artificial', 'intelligence', 'is']\n",
            "['artificial', 'intelligence', 'is', 'human', 'like', 'intelligence', '.', 'it', 'is', 'the', 'study', 'of', 'intelligent', 'artificial', 'agents', '.', 'science', 'and', 'engineering', 'to', 'produce', 'intelligent', 'machines', '.', 'solve', 'problems', 'and', 'have', 'intelligence', '.', 'related', 'to', 'intelligent', 'behavior', '.', 'developing', 'of', 'reasoning', 'machines', '.', 'learn', 'from', 'mistakes', 'and', 'successes', '.', 'artificial', 'intelligence', 'is', 'related']\n",
            "['artificial', 'intelligence', 'is', 'human', 'like', 'intelligence', '.', 'it', 'is', 'the', 'study', 'of', 'intelligent', 'artificial', 'agents', '.', 'science', 'and', 'engineering', 'to', 'produce', 'intelligent', 'machines', '.', 'solve', 'problems', 'and', 'have', 'intelligence', '.', 'related', 'to', 'intelligent', 'behavior', '.', 'developing', 'of', 'reasoning', 'machines', '.', 'learn', 'from', 'mistakes', 'and', 'successes', '.', 'artificial', 'intelligence', 'is', 'related', 'to']\n",
            "['artificial', 'intelligence', 'is', 'human', 'like', 'intelligence', '.', 'it', 'is', 'the', 'study', 'of', 'intelligent', 'artificial', 'agents', '.', 'science', 'and', 'engineering', 'to', 'produce', 'intelligent', 'machines', '.', 'solve', 'problems', 'and', 'have', 'intelligence', '.', 'related', 'to', 'intelligent', 'behavior', '.', 'developing', 'of', 'reasoning', 'machines', '.', 'learn', 'from', 'mistakes', 'and', 'successes', '.', 'artificial', 'intelligence', 'is', 'related', 'to', 'reasoning']\n",
            "['artificial', 'intelligence', 'is', 'human', 'like', 'intelligence', '.', 'it', 'is', 'the', 'study', 'of', 'intelligent', 'artificial', 'agents', '.', 'science', 'and', 'engineering', 'to', 'produce', 'intelligent', 'machines', '.', 'solve', 'problems', 'and', 'have', 'intelligence', '.', 'related', 'to', 'intelligent', 'behavior', '.', 'developing', 'of', 'reasoning', 'machines', '.', 'learn', 'from', 'mistakes', 'and', 'successes', '.', 'artificial', 'intelligence', 'is', 'related', 'to', 'reasoning', 'in']\n",
            "['artificial', 'intelligence', 'is', 'human', 'like', 'intelligence', '.', 'it', 'is', 'the', 'study', 'of', 'intelligent', 'artificial', 'agents', '.', 'science', 'and', 'engineering', 'to', 'produce', 'intelligent', 'machines', '.', 'solve', 'problems', 'and', 'have', 'intelligence', '.', 'related', 'to', 'intelligent', 'behavior', '.', 'developing', 'of', 'reasoning', 'machines', '.', 'learn', 'from', 'mistakes', 'and', 'successes', '.', 'artificial', 'intelligence', 'is', 'related', 'to', 'reasoning', 'in', 'everyday']\n",
            "['artificial', 'intelligence', 'is', 'human', 'like', 'intelligence', '.', 'it', 'is', 'the', 'study', 'of', 'intelligent', 'artificial', 'agents', '.', 'science', 'and', 'engineering', 'to', 'produce', 'intelligent', 'machines', '.', 'solve', 'problems', 'and', 'have', 'intelligence', '.', 'related', 'to', 'intelligent', 'behavior', '.', 'developing', 'of', 'reasoning', 'machines', '.', 'learn', 'from', 'mistakes', 'and', 'successes', '.', 'artificial', 'intelligence', 'is', 'related', 'to', 'reasoning', 'in', 'everyday', 'situations']\n",
            "['artificial', 'intelligence', 'is', 'human', 'like', 'intelligence', '.', 'it', 'is', 'the', 'study', 'of', 'intelligent', 'artificial', 'agents', '.', 'science', 'and', 'engineering', 'to', 'produce', 'intelligent', 'machines', '.', 'solve', 'problems', 'and', 'have', 'intelligence', '.', 'related', 'to', 'intelligent', 'behavior', '.', 'developing', 'of', 'reasoning', 'machines', '.', 'learn', 'from', 'mistakes', 'and', 'successes', '.', 'artificial', 'intelligence', 'is', 'related', 'to', 'reasoning', 'in', 'everyday', 'situations', 'sasdasdas']\n",
            "['artificial', 'intelligence', 'is', 'human', 'like', 'intelligence', '.', 'it', 'is', 'the', 'study', 'of', 'intelligent', 'artificial', 'agents', '.', 'science', 'and', 'engineering', 'to', 'produce', 'intelligent', 'machines', '.', 'solve', 'problems', 'and', 'have', 'intelligence', '.', 'related', 'to', 'intelligent', 'behavior', '.', 'developing', 'of', 'reasoning', 'machines', '.', 'learn', 'from', 'mistakes', 'and', 'successes', '.', 'artificial', 'intelligence', 'is', 'related', 'to', 'reasoning', 'in', 'everyday', 'situations', 'sasdasdas', '.']\n"
          ]
        },
        {
          "output_type": "execute_result",
          "data": {
            "text/plain": [
              "'artificial intelligence human like intelligence study intelligent artificial agents science engineering produce intelligent machines solve problems intelligence related intelligent behavior developing reasoning machines learn mistakes successes artificial intelligence related reasoning everyday situations sasdasdas'"
            ],
            "application/vnd.google.colaboratory.intrinsic+json": {
              "type": "string"
            }
          },
          "metadata": {},
          "execution_count": 14
        }
      ],
      "source": [
        "formatted_text = preprocess(original_text) #now make a variable to implement our function to the text we want\n",
        "formatted_text\n"
      ]
    },
    {
      "cell_type": "code",
      "execution_count": 15,
      "id": "f41ae91b",
      "metadata": {
        "id": "f41ae91b",
        "colab": {
          "base_uri": "https://localhost:8080/"
        },
        "outputId": "5690ba28-1379-4e53-b4cf-e803ef580f07"
      },
      "outputs": [
        {
          "output_type": "execute_result",
          "data": {
            "text/plain": [
              "FreqDist({'intelligence': 4, 'artificial': 3, 'intelligent': 3, 'machines': 2, 'related': 2, 'reasoning': 2, 'human': 1, 'like': 1, 'study': 1, 'agents': 1, ...})"
            ]
          },
          "metadata": {},
          "execution_count": 15
        }
      ],
      "source": [
        "word_frequency = nltk.FreqDist(nltk.word_tokenize(formatted_text)) # made a new variable that store the number of times each word appered in the text\n",
        "word_frequency"
      ]
    },
    {
      "cell_type": "code",
      "execution_count": 16,
      "id": "eee7c8f8",
      "metadata": {
        "id": "eee7c8f8",
        "colab": {
          "base_uri": "https://localhost:8080/"
        },
        "outputId": "01025270-13f4-4e8a-e53b-3491937044cd"
      },
      "outputs": [
        {
          "output_type": "execute_result",
          "data": {
            "text/plain": [
              "4"
            ]
          },
          "metadata": {},
          "execution_count": 16
        }
      ],
      "source": [
        "highest_frequency = max(word_frequency.values()) # we need to find the maximum value (the maximum number a word has appered in text) to make weight for each word\n",
        "highest_frequency"
      ]
    },
    {
      "cell_type": "code",
      "source": [
        "for word in word_frequency: # we come up with a loop to devide the frequency of each word to the maximum amount\n",
        "  print(word)\n",
        "  word_frequency[word] = (word_frequency[word] / highest_frequency)\n"
      ],
      "metadata": {
        "id": "MRktCc9-oscA",
        "outputId": "0610f4df-b280-4041-e007-8d097e5237b7",
        "colab": {
          "base_uri": "https://localhost:8080/"
        }
      },
      "id": "MRktCc9-oscA",
      "execution_count": 18,
      "outputs": [
        {
          "output_type": "stream",
          "name": "stdout",
          "text": [
            "intelligence\n",
            "artificial\n",
            "intelligent\n",
            "machines\n",
            "related\n",
            "reasoning\n",
            "human\n",
            "like\n",
            "study\n",
            "agents\n",
            "science\n",
            "engineering\n",
            "produce\n",
            "solve\n",
            "problems\n",
            "behavior\n",
            "developing\n",
            "learn\n",
            "mistakes\n",
            "successes\n",
            "everyday\n",
            "situations\n",
            "sasdasdas\n"
          ]
        }
      ]
    },
    {
      "cell_type": "code",
      "source": [
        "word_frequency"
      ],
      "metadata": {
        "colab": {
          "base_uri": "https://localhost:8080/"
        },
        "id": "NNPNTvHVpOji",
        "outputId": "40b2b980-3ce7-4a2e-9728-f4773def4585"
      },
      "id": "NNPNTvHVpOji",
      "execution_count": 19,
      "outputs": [
        {
          "output_type": "execute_result",
          "data": {
            "text/plain": [
              "FreqDist({'intelligence': 0.25, 'artificial': 0.1875, 'intelligent': 0.1875, 'machines': 0.125, 'related': 0.125, 'reasoning': 0.125, 'human': 0.0625, 'like': 0.0625, 'study': 0.0625, 'agents': 0.0625, ...})"
            ]
          },
          "metadata": {},
          "execution_count": 19
        }
      ]
    },
    {
      "cell_type": "code",
      "source": [
        "sentence_list = nltk.sent_tokenize(original_text)\n",
        "sentence_list"
      ],
      "metadata": {
        "id": "TSGMAkoSQMgA",
        "outputId": "ed1ebffe-df6b-4aa5-f12d-4911506868f5",
        "colab": {
          "base_uri": "https://localhost:8080/"
        }
      },
      "id": "TSGMAkoSQMgA",
      "execution_count": 20,
      "outputs": [
        {
          "output_type": "execute_result",
          "data": {
            "text/plain": [
              "['Artificial intelligence is human like intelligence.',\n",
              " 'It is the study of intelligent artificial agents.',\n",
              " 'Science and engineering to produce intelligent machines.',\n",
              " 'Solve problems and have intelligence.',\n",
              " 'Related to intelligent behavior.',\n",
              " 'Developing of reasoning machines.',\n",
              " 'Learn from mistakes and successes.',\n",
              " 'Artificial Intelligence is related to reasoning in everyday situations sasdasdas.']"
            ]
          },
          "metadata": {},
          "execution_count": 20
        }
      ]
    },
    {
      "cell_type": "code",
      "source": [
        "score_sentences = {} #here, the value is a dictionary object which contains score for each sentence in pairs inside { } and {} defines a dictionary .\n",
        "for sentence in sentence_list:#the key for the dictionary is the whole sentence and the value is the score\n",
        "  print(sentence)\n",
        "  for word in nltk.word_tokenize(sentence.lower()):\n",
        "    print(word)\n",
        "    if sentence not in score_sentences.keys():\n",
        "      score_sentences[sentence] = word_frequency[word] #we are initializing our dicitionary\n",
        "    else:\n",
        "      score_sentences[sentence] += word_frequency[word] #we are increasing  #+= provides a convenient way to add a value to an existing variable and assign the new value back to the same variable\n"
      ],
      "metadata": {
        "id": "UYZdHLgEQhRd",
        "outputId": "22059aa6-ec5c-437c-83b4-153eb690547e",
        "colab": {
          "base_uri": "https://localhost:8080/"
        }
      },
      "id": "UYZdHLgEQhRd",
      "execution_count": 33,
      "outputs": [
        {
          "output_type": "stream",
          "name": "stdout",
          "text": [
            "Artificial intelligence is human like intelligence.\n",
            "artificial\n",
            "intelligence\n",
            "is\n",
            "human\n",
            "like\n",
            "intelligence\n",
            ".\n",
            "It is the study of intelligent artificial agents.\n",
            "it\n",
            "is\n",
            "the\n",
            "study\n",
            "of\n",
            "intelligent\n",
            "artificial\n",
            "agents\n",
            ".\n",
            "Science and engineering to produce intelligent machines.\n",
            "science\n",
            "and\n",
            "engineering\n",
            "to\n",
            "produce\n",
            "intelligent\n",
            "machines\n",
            ".\n",
            "Solve problems and have intelligence.\n",
            "solve\n",
            "problems\n",
            "and\n",
            "have\n",
            "intelligence\n",
            ".\n",
            "Related to intelligent behavior.\n",
            "related\n",
            "to\n",
            "intelligent\n",
            "behavior\n",
            ".\n",
            "Developing of reasoning machines.\n",
            "developing\n",
            "of\n",
            "reasoning\n",
            "machines\n",
            ".\n",
            "Learn from mistakes and successes.\n",
            "learn\n",
            "from\n",
            "mistakes\n",
            "and\n",
            "successes\n",
            ".\n",
            "Artificial Intelligence is related to reasoning in everyday situations sasdasdas.\n",
            "artificial\n",
            "intelligence\n",
            "is\n",
            "related\n",
            "to\n",
            "reasoning\n",
            "in\n",
            "everyday\n",
            "situations\n",
            "sasdasdas\n",
            ".\n"
          ]
        }
      ]
    },
    {
      "cell_type": "code",
      "source": [
        "score_sentences"
      ],
      "metadata": {
        "id": "srjXqH_oQzyN",
        "outputId": "ff7fc56f-ab87-4dd6-c819-9f4a386a29f8",
        "colab": {
          "base_uri": "https://localhost:8080/"
        }
      },
      "id": "srjXqH_oQzyN",
      "execution_count": 32,
      "outputs": [
        {
          "output_type": "execute_result",
          "data": {
            "text/plain": [
              "{'Artificial intelligence is human like intelligence.': 0.8125,\n",
              " 'It is the study of intelligent artificial agents.': 0.5,\n",
              " 'Science and engineering to produce intelligent machines.': 0.5,\n",
              " 'Solve problems and have intelligence.': 0.375,\n",
              " 'Related to intelligent behavior.': 0.375,\n",
              " 'Developing of reasoning machines.': 0.3125,\n",
              " 'Learn from mistakes and successes.': 0.1875,\n",
              " 'Artificial Intelligence is related to reasoning in everyday situations sasdasdas.': 0.875}"
            ]
          },
          "metadata": {},
          "execution_count": 32
        }
      ]
    },
    {
      "cell_type": "code",
      "source": [
        "import heapq # a library that help us to order our dictionaries\n",
        "best_sentence = heapq.nlargest(3, score_sentences, key = score_sentences.get) #the first number is the total number of sentences that we want to return"
      ],
      "metadata": {
        "id": "VIMuulbAUh6x"
      },
      "id": "VIMuulbAUh6x",
      "execution_count": 34,
      "outputs": []
    },
    {
      "cell_type": "code",
      "source": [
        "best_sentence"
      ],
      "metadata": {
        "id": "eGu7fr9ratUD",
        "outputId": "5da83f6c-422d-414b-ce16-f63cec141d22",
        "colab": {
          "base_uri": "https://localhost:8080/"
        }
      },
      "id": "eGu7fr9ratUD",
      "execution_count": 35,
      "outputs": [
        {
          "output_type": "execute_result",
          "data": {
            "text/plain": [
              "['Artificial Intelligence is related to reasoning in everyday situations sasdasdas.',\n",
              " 'Artificial intelligence is human like intelligence.',\n",
              " 'It is the study of intelligent artificial agents.']"
            ]
          },
          "metadata": {},
          "execution_count": 35
        }
      ]
    },
    {
      "cell_type": "code",
      "source": [
        "summary = ' '.join(best_sentence)\n",
        "summary"
      ],
      "metadata": {
        "id": "eAxZ9VKTaxU9",
        "outputId": "eef4191a-b851-4099-cdb4-f506b5de80fc",
        "colab": {
          "base_uri": "https://localhost:8080/",
          "height": 54
        }
      },
      "id": "eAxZ9VKTaxU9",
      "execution_count": 37,
      "outputs": [
        {
          "output_type": "execute_result",
          "data": {
            "text/plain": [
              "'Artificial Intelligence is related to reasoning in everyday situations sasdasdas. Artificial intelligence is human like intelligence. It is the study of intelligent artificial agents.'"
            ],
            "application/vnd.google.colaboratory.intrinsic+json": {
              "type": "string"
            }
          },
          "metadata": {},
          "execution_count": 37
        }
      ]
    },
    {
      "cell_type": "code",
      "source": [],
      "metadata": {
        "id": "ifzurD2vbCJt"
      },
      "id": "ifzurD2vbCJt",
      "execution_count": null,
      "outputs": []
    }
  ],
  "metadata": {
    "kernelspec": {
      "display_name": "Python 3 (ipykernel)",
      "language": "python",
      "name": "python3"
    },
    "language_info": {
      "codemirror_mode": {
        "name": "ipython",
        "version": 3
      },
      "file_extension": ".py",
      "mimetype": "text/x-python",
      "name": "python",
      "nbconvert_exporter": "python",
      "pygments_lexer": "ipython3",
      "version": "3.9.7"
    },
    "colab": {
      "provenance": []
    },
    "accelerator": "GPU",
    "gpuClass": "standard"
  },
  "nbformat": 4,
  "nbformat_minor": 5
}